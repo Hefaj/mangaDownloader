{
 "cells": [
  {
   "cell_type": "code",
   "execution_count": 12,
   "metadata": {},
   "outputs": [],
   "source": [
    "import os\n",
    "import requests\n",
    "import re\n",
    "from urllib.request import urlopen, Request\n",
    "from bs4 import BeautifulSoup as bs"
   ]
  },
  {
   "cell_type": "code",
   "execution_count": 93,
   "metadata": {},
   "outputs": [],
   "source": [
    "def downloadAndSave(name, url, file_name):\n",
    "    name = name.replace(' ', '_')\n",
    "    response = requests.get('https:' + url)\n",
    "    file = open('./' + str(file_name) + '/' + str(name) + \".png\", \"wb\")\n",
    "    print ('Zapisano: ' + './' + str(file_name) + '/' + str(name) + \".png\")\n",
    "    file.write(response.content)\n",
    "    file.close()\n",
    "\n",
    "def findMangaImg(images):\n",
    "    for image in images:\n",
    "        if re.search('id', str(image)):\n",
    "            return image['alt'], image['src'].split('?')[0]\n",
    "        else:\n",
    "            return None, None\n",
    "        \n",
    "def download_chapter(file_name, url_chapter):\n",
    "    for i in range(1,100):\n",
    "        url = url_chapter  + '/' + str(i) + '.html'\n",
    "        try:\n",
    "            soup = bs(urlopen(Request(url, headers={'User-Agent': 'Mozilla/5.0'})))\n",
    "            imagesList = soup.findAll(\"img\")\n",
    "            name, url = findMangaImg(imagesList)\n",
    "            downloadAndSave(name,url, file_name)\n",
    "        except:\n",
    "            return True\n",
    "            \n",
    "def download_manga(url_manga, max_chapter=100):\n",
    "    name = url_manga.split('/')\n",
    "    name = list(filter(('').__ne__, name))[-1]\n",
    "    try:\n",
    "        os.makedirs(name)\n",
    "    except OSError:\n",
    "        pass\n",
    "    \n",
    "    for i in range(1,max_chapter):\n",
    "        req = download_chapter(name, url_manga + '/c{:03d}'.format(i))\n",
    "        if not req: \n",
    "            print ('Pobrano.')\n",
    "            break"
   ]
  },
  {
   "cell_type": "code",
   "execution_count": 95,
   "metadata": {},
   "outputs": [],
   "source": [
    "manga = 'http://www.mangatown.com/manga/berserk'\n",
    "download_manga(manga)"
   ]
  }
 ],
 "metadata": {
  "kernelspec": {
   "display_name": "Python 3",
   "language": "python",
   "name": "python3"
  },
  "language_info": {
   "codemirror_mode": {
    "name": "ipython",
    "version": 3
   },
   "file_extension": ".py",
   "mimetype": "text/x-python",
   "name": "python",
   "nbconvert_exporter": "python",
   "pygments_lexer": "ipython3",
   "version": "3.7.4"
  }
 },
 "nbformat": 4,
 "nbformat_minor": 2
}
